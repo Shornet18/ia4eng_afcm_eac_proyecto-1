{
  "nbformat": 4,
  "nbformat_minor": 0,
  "metadata": {
    "colab": {
      "provenance": []
    },
    "kernelspec": {
      "name": "python3",
      "display_name": "Python 3"
    },
    "language_info": {
      "name": "python"
    }
  },
  "cells": [
    {
      "cell_type": "markdown",
      "source": [
        "[![Open in Colab](https://colab.research.google.com/assets/colab-badge.svg)](https://colab.research.google.com/github/andresfcm97/ia4eng_afcm_eac_proyecto/blob/main/01 - Exploración de Datos.ipynb)"
      ],
      "metadata": {
        "id": "qAMXvYh7vtyi"
      }
    },
    {
      "cell_type": "code",
      "execution_count": null,
      "metadata": {
        "id": "Zf2BpR4ivd6b"
      },
      "outputs": [],
      "source": [
        "!pip install kaggle"
      ]
    },
    {
      "cell_type": "code",
      "source": [
        "import google.colab as gc\n",
        "gc.files.upload()"
      ],
      "metadata": {
        "id": "k4IlrScxv5OL"
      },
      "execution_count": null,
      "outputs": []
    },
    {
      "cell_type": "code",
      "source": [
        "!mkdir -p ~/.kaggle\n",
        "!cp kaggle.json ~/.kaggle/\n",
        "!chmod 600 ~/.kaggle/kaggle.json\n",
        "\n",
        "!kaggle competitions download -c house-prices-advanced-regression-techniques\n",
        "from zipfile import ZipFile\n",
        "file_name = 'house-prices-advanced-regression-techniques.zip'\n",
        "with ZipFile(file_name, 'r') as zip:\n",
        "  zip.extractall()"
      ],
      "metadata": {
        "id": "2BcWDmjXv9tf"
      },
      "execution_count": null,
      "outputs": []
    },
    {
      "cell_type": "markdown",
      "source": [
        "# 1. Importamos librerías que vamos a utilizar"
      ],
      "metadata": {
        "id": "S2ikZteLwJ3i"
      }
    },
    {
      "cell_type": "code",
      "source": [
        "import pandas as pd\n",
        "import numpy as np\n",
        "import matplotlib.pyplot as plt\n",
        "import seaborn as sns\n",
        "from scipy import stats\n",
        "from scipy.stats import norm\n",
        "from sklearn.model_selection import train_test_split"
      ],
      "metadata": {
        "id": "zEKdjV6gwKho"
      },
      "execution_count": null,
      "outputs": []
    },
    {
      "cell_type": "markdown",
      "source": [
        "# 2. Cargamos los archivos que se van a utilizar"
      ],
      "metadata": {
        "id": "gcEOycMhwU7A"
      }
    },
    {
      "cell_type": "code",
      "source": [
        "entrenamiento = pd.read_csv(\"train.csv\")\n",
        "prueba = pd.read_csv(\"test.csv\")\n",
        "entrenamiento.head()"
      ],
      "metadata": {
        "id": "edurRQGFwVXc"
      },
      "execution_count": null,
      "outputs": []
    },
    {
      "cell_type": "markdown",
      "source": [
        "Nos informamos de las dimensiones de nuestros DataFrames"
      ],
      "metadata": {
        "id": "GTVe1aOtwf9L"
      }
    },
    {
      "cell_type": "code",
      "source": [
        "ID_prueba = prueba['Id']\n",
        "print(f\"Dimensión train.csv: {entrenamiento.shape}\\nDimensión test.csv: {prueba.shape}\")"
      ],
      "metadata": {
        "id": "HYGupc9_wgXE"
      },
      "execution_count": null,
      "outputs": []
    },
    {
      "cell_type": "markdown",
      "source": [
        "Ya que el DataFrame en el que más nos enfocaremos es en el de entrenamiento, es necesario informarse sobre si tiene o no algunas columnas con valores nulos, puesto que, después de verificar las variables que se tendrán presentes para el modelo, habrá que eliminar los datos nulos que contengan."
      ],
      "metadata": {
        "id": "lTBHJLsUwrxv"
      }
    },
    {
      "cell_type": "code",
      "source": [
        "entrenamiento.info()"
      ],
      "metadata": {
        "id": "P0MZbquWwus_"
      },
      "execution_count": null,
      "outputs": []
    },
    {
      "cell_type": "code",
      "source": [
        "entrenamiento.columns"
      ],
      "metadata": {
        "id": "HXYJhORGwzpB"
      },
      "execution_count": null,
      "outputs": []
    },
    {
      "cell_type": "markdown",
      "source": [
        "Tal como se pudo observar, el archivo train.csv cuenta con 1460 filas y 81 columnas, el objetivo será predecir el precio de venta de las casas, es decir, la columna \"SalePrice\", para esto, tendremos que mirar cuáles variables se relacionan con nuestra variable de interés (SalePrice), y elegir las que tengan mayor relación."
      ],
      "metadata": {
        "id": "d6Kau4dWw3-F"
      }
    },
    {
      "cell_type": "code",
      "source": [],
      "metadata": {
        "id": "i0fGk1nKw4tC"
      },
      "execution_count": null,
      "outputs": []
    }
  ]
}